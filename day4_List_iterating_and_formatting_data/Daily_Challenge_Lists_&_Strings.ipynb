{
  "nbformat": 4,
  "nbformat_minor": 0,
  "metadata": {
    "colab": {
      "provenance": [],
      "authorship_tag": "ABX9TyMnbCZFx0YV/iTABMNUIL9A",
      "include_colab_link": true
    },
    "kernelspec": {
      "name": "python3",
      "display_name": "Python 3"
    },
    "language_info": {
      "name": "python"
    }
  },
  "cells": [
    {
      "cell_type": "markdown",
      "metadata": {
        "id": "view-in-github",
        "colab_type": "text"
      },
      "source": [
        "<a href=\"https://colab.research.google.com/github/IngerMasha/week1/blob/main/day4_List_iterating_and_formatting_data/Daily_Challenge_Lists_%26_Strings.ipynb\" target=\"_parent\"><img src=\"https://colab.research.google.com/assets/colab-badge.svg\" alt=\"Open In Colab\"/></a>"
      ]
    },
    {
      "cell_type": "code",
      "execution_count": 1,
      "metadata": {
        "colab": {
          "base_uri": "https://localhost:8080/"
        },
        "id": "occvdg-M0wDd",
        "outputId": "24224e12-3b0a-48b0-8e52-b6b5abda7cfb"
      },
      "outputs": [
        {
          "output_type": "stream",
          "name": "stdout",
          "text": [
            "Enter the number: 43\n",
            "Enter the length: 10\n",
            "[43, 86, 129, 172, 215, 258, 301, 344, 387, 430]\n"
          ]
        }
      ],
      "source": [
        "def multiples_of_number(number, length):\n",
        "    multiples_list = [number * (i + 1) for i in range(length)]\n",
        "    return multiples_list\n",
        "\n",
        "number = int(input(\"Enter the number: \"))\n",
        "length = int(input(\"Enter the length: \"))\n",
        "print(multiples_of_number(number, length))\n"
      ]
    },
    {
      "cell_type": "code",
      "source": [
        "def remove_consecutive_duplicates(s):\n",
        "    if not s:\n",
        "        return s\n",
        "    result = [s[0]]\n",
        "    for char in s[1:]:\n",
        "        if char != result[-1]:\n",
        "            result.append(char)\n",
        "    return ''.join(result)\n",
        "user_word = input(\"Enter a string: \")\n",
        "print(remove_consecutive_duplicates(user_word))\n"
      ],
      "metadata": {
        "colab": {
          "base_uri": "https://localhost:8080/"
        },
        "id": "1ZOxoVih01px",
        "outputId": "d7799546-6f34-439e-d1cc-8ed9f95122e8"
      },
      "execution_count": 2,
      "outputs": [
        {
          "output_type": "stream",
          "name": "stdout",
          "text": [
            "Enter a string: ttr\n",
            "tr\n"
          ]
        }
      ]
    },
    {
      "cell_type": "code",
      "source": [],
      "metadata": {
        "id": "_Ct6-0N21MdU"
      },
      "execution_count": null,
      "outputs": []
    }
  ]
}