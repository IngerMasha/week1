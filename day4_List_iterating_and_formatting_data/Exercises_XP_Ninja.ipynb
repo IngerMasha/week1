{
  "nbformat": 4,
  "nbformat_minor": 0,
  "metadata": {
    "colab": {
      "provenance": [],
      "authorship_tag": "ABX9TyMeVSDt7U8dgZ2RBp+9UVeH",
      "include_colab_link": true
    },
    "kernelspec": {
      "name": "python3",
      "display_name": "Python 3"
    },
    "language_info": {
      "name": "python"
    }
  },
  "cells": [
    {
      "cell_type": "markdown",
      "metadata": {
        "id": "view-in-github",
        "colab_type": "text"
      },
      "source": [
        "<a href=\"https://colab.research.google.com/github/IngerMasha/week1/blob/main/day4_List_iterating_and_formatting_data/Exercises_XP_Ninja.ipynb\" target=\"_parent\"><img src=\"https://colab.research.google.com/assets/colab-badge.svg\" alt=\"Open In Colab\"/></a>"
      ]
    },
    {
      "cell_type": "code",
      "execution_count": 1,
      "metadata": {
        "colab": {
          "base_uri": "https://localhost:8080/",
          "height": 356
        },
        "id": "pYiaWYFDwspb",
        "outputId": "99d3c3af-c047-412d-cfd1-6893f4af8b2b"
      },
      "outputs": [
        {
          "output_type": "error",
          "ename": "KeyboardInterrupt",
          "evalue": "Interrupted by user",
          "traceback": [
            "\u001b[0;31m---------------------------------------------------------------------------\u001b[0m",
            "\u001b[0;31mKeyboardInterrupt\u001b[0m                         Traceback (most recent call last)",
            "\u001b[0;32m<ipython-input-1-2280030ca8d3>\u001b[0m in \u001b[0;36m<cell line: 4>\u001b[0;34m()\u001b[0m\n\u001b[1;32m      2\u001b[0m \u001b[0mC\u001b[0m \u001b[0;34m=\u001b[0m \u001b[0;36m50\u001b[0m\u001b[0;34m\u001b[0m\u001b[0;34m\u001b[0m\u001b[0m\n\u001b[1;32m      3\u001b[0m \u001b[0mH\u001b[0m \u001b[0;34m=\u001b[0m \u001b[0;36m30\u001b[0m\u001b[0;34m\u001b[0m\u001b[0;34m\u001b[0m\u001b[0m\n\u001b[0;32m----> 4\u001b[0;31m \u001b[0muser_input\u001b[0m \u001b[0;34m=\u001b[0m \u001b[0minput\u001b[0m\u001b[0;34m(\u001b[0m\u001b[0;34m\"Enter a comma-separated list of numbers: \"\u001b[0m\u001b[0;34m)\u001b[0m\u001b[0;34m\u001b[0m\u001b[0;34m\u001b[0m\u001b[0m\n\u001b[0m\u001b[1;32m      5\u001b[0m \u001b[0mnumbers\u001b[0m \u001b[0;34m=\u001b[0m \u001b[0muser_input\u001b[0m\u001b[0;34m.\u001b[0m\u001b[0msplit\u001b[0m\u001b[0;34m(\u001b[0m\u001b[0;34m\",\"\u001b[0m\u001b[0;34m)\u001b[0m\u001b[0;34m\u001b[0m\u001b[0;34m\u001b[0m\u001b[0m\n\u001b[1;32m      6\u001b[0m \u001b[0mresults\u001b[0m \u001b[0;34m=\u001b[0m \u001b[0;34m[\u001b[0m\u001b[0mstr\u001b[0m\u001b[0;34m(\u001b[0m\u001b[0mint\u001b[0m\u001b[0;34m(\u001b[0m\u001b[0mmath\u001b[0m\u001b[0;34m.\u001b[0m\u001b[0msqrt\u001b[0m\u001b[0;34m(\u001b[0m\u001b[0;34m(\u001b[0m\u001b[0;36m2\u001b[0m \u001b[0;34m*\u001b[0m \u001b[0mC\u001b[0m \u001b[0;34m*\u001b[0m \u001b[0mint\u001b[0m\u001b[0;34m(\u001b[0m\u001b[0mD\u001b[0m\u001b[0;34m)\u001b[0m\u001b[0;34m)\u001b[0m \u001b[0;34m/\u001b[0m \u001b[0mH\u001b[0m\u001b[0;34m)\u001b[0m\u001b[0;34m)\u001b[0m\u001b[0;34m)\u001b[0m \u001b[0;32mfor\u001b[0m \u001b[0mD\u001b[0m \u001b[0;32min\u001b[0m \u001b[0mnumbers\u001b[0m\u001b[0;34m]\u001b[0m\u001b[0;34m\u001b[0m\u001b[0;34m\u001b[0m\u001b[0m\n",
            "\u001b[0;32m/usr/local/lib/python3.10/dist-packages/ipykernel/kernelbase.py\u001b[0m in \u001b[0;36mraw_input\u001b[0;34m(self, prompt)\u001b[0m\n\u001b[1;32m    849\u001b[0m                 \u001b[0;34m\"raw_input was called, but this frontend does not support input requests.\"\u001b[0m\u001b[0;34m\u001b[0m\u001b[0;34m\u001b[0m\u001b[0m\n\u001b[1;32m    850\u001b[0m             )\n\u001b[0;32m--> 851\u001b[0;31m         return self._input_request(str(prompt),\n\u001b[0m\u001b[1;32m    852\u001b[0m             \u001b[0mself\u001b[0m\u001b[0;34m.\u001b[0m\u001b[0m_parent_ident\u001b[0m\u001b[0;34m,\u001b[0m\u001b[0;34m\u001b[0m\u001b[0;34m\u001b[0m\u001b[0m\n\u001b[1;32m    853\u001b[0m             \u001b[0mself\u001b[0m\u001b[0;34m.\u001b[0m\u001b[0m_parent_header\u001b[0m\u001b[0;34m,\u001b[0m\u001b[0;34m\u001b[0m\u001b[0;34m\u001b[0m\u001b[0m\n",
            "\u001b[0;32m/usr/local/lib/python3.10/dist-packages/ipykernel/kernelbase.py\u001b[0m in \u001b[0;36m_input_request\u001b[0;34m(self, prompt, ident, parent, password)\u001b[0m\n\u001b[1;32m    893\u001b[0m             \u001b[0;32mexcept\u001b[0m \u001b[0mKeyboardInterrupt\u001b[0m\u001b[0;34m:\u001b[0m\u001b[0;34m\u001b[0m\u001b[0;34m\u001b[0m\u001b[0m\n\u001b[1;32m    894\u001b[0m                 \u001b[0;31m# re-raise KeyboardInterrupt, to truncate traceback\u001b[0m\u001b[0;34m\u001b[0m\u001b[0;34m\u001b[0m\u001b[0m\n\u001b[0;32m--> 895\u001b[0;31m                 \u001b[0;32mraise\u001b[0m \u001b[0mKeyboardInterrupt\u001b[0m\u001b[0;34m(\u001b[0m\u001b[0;34m\"Interrupted by user\"\u001b[0m\u001b[0;34m)\u001b[0m \u001b[0;32mfrom\u001b[0m \u001b[0;32mNone\u001b[0m\u001b[0;34m\u001b[0m\u001b[0;34m\u001b[0m\u001b[0m\n\u001b[0m\u001b[1;32m    896\u001b[0m             \u001b[0;32mexcept\u001b[0m \u001b[0mException\u001b[0m \u001b[0;32mas\u001b[0m \u001b[0me\u001b[0m\u001b[0;34m:\u001b[0m\u001b[0;34m\u001b[0m\u001b[0;34m\u001b[0m\u001b[0m\n\u001b[1;32m    897\u001b[0m                 \u001b[0mself\u001b[0m\u001b[0;34m.\u001b[0m\u001b[0mlog\u001b[0m\u001b[0;34m.\u001b[0m\u001b[0mwarning\u001b[0m\u001b[0;34m(\u001b[0m\u001b[0;34m\"Invalid Message:\"\u001b[0m\u001b[0;34m,\u001b[0m \u001b[0mexc_info\u001b[0m\u001b[0;34m=\u001b[0m\u001b[0;32mTrue\u001b[0m\u001b[0;34m)\u001b[0m\u001b[0;34m\u001b[0m\u001b[0;34m\u001b[0m\u001b[0m\n",
            "\u001b[0;31mKeyboardInterrupt\u001b[0m: Interrupted by user"
          ]
        }
      ],
      "source": [
        "import math\n",
        "C = 50\n",
        "H = 30\n",
        "user_input = input(\"Enter a comma-separated list of numbers: \")\n",
        "numbers = user_input.split(\",\")\n",
        "results = [str(int(math.sqrt((2 * C * int(D)) / H))) for D in numbers]\n",
        "print(\",\".join(results))\n"
      ]
    },
    {
      "cell_type": "code",
      "source": [
        "numbers = [3, 47, 99, -80, 22, 97, 54, -23, 5, 7]\n",
        "print(\"a. Original list:\", numbers)\n",
        "sorted_numbers = sorted(numbers, reverse=True)\n",
        "print(\"b. Descending order:\", sorted_numbers)\n",
        "total_sum = sum(numbers)\n",
        "print(\"c. Sum of all numbers:\", total_sum)\n",
        "first_last = [numbers[0], numbers[-1]]\n",
        "print(\"d. First and last numbers:\", first_last)\n",
        "greater_than_50 = [num for num in numbers if num > 50]\n",
        "print(\"e. Numbers greater than 50:\", greater_than_50)\n",
        "smaller_than_10 = [num for num in numbers if num < 10]\n",
        "print(\"f. Numbers smaller than 10:\", smaller_than_10)\n",
        "squared_numbers = [num ** 2 for num in numbers]\n",
        "print(\"g. Squared numbers:\", squared_numbers)\n",
        "unique_numbers = list(set(numbers))\n",
        "print(\"h. Unique numbers:\", unique_numbers)\n",
        "print(\"   Number of unique numbers:\", len(unique_numbers))\n",
        "average = total_sum / len(numbers)\n",
        "print(\"i. Average of all numbers:\", average)\n",
        "largest_number = max(numbers)\n",
        "print(\"j. Largest number:\", largest_number)\n",
        "smallest_number = min(numbers)\n",
        "print(\"k. Smallest number:\", smallest_number)\n"
      ],
      "metadata": {
        "colab": {
          "base_uri": "https://localhost:8080/"
        },
        "id": "x9MU9-VSxHcl",
        "outputId": "32829232-b381-4f94-a442-dedcedf4e058"
      },
      "execution_count": 3,
      "outputs": [
        {
          "output_type": "stream",
          "name": "stdout",
          "text": [
            "a. Original list: [3, 47, 99, -80, 22, 97, 54, -23, 5, 7]\n",
            "b. Descending order: [99, 97, 54, 47, 22, 7, 5, 3, -23, -80]\n",
            "c. Sum of all numbers: 231\n",
            "d. First and last numbers: [3, 7]\n",
            "e. Numbers greater than 50: [99, 97, 54]\n",
            "f. Numbers smaller than 10: [3, -80, -23, 5, 7]\n",
            "g. Squared numbers: [9, 2209, 9801, 6400, 484, 9409, 2916, 529, 25, 49]\n",
            "h. Unique numbers: [97, 99, 3, 5, 7, -23, 47, -80, 22, 54]\n",
            "   Number of unique numbers: 10\n",
            "i. Average of all numbers: 23.1\n",
            "j. Largest number: 99\n",
            "k. Smallest number: -80\n"
          ]
        }
      ]
    },
    {
      "cell_type": "code",
      "source": [
        "import re\n",
        "paragraph = \"\"\"Python is an interpreted, high-level, general-purpose programming language. Created by Guido van Rossum and first released in 1991, Python's design philosophy emphasizes code readability with its notable use of significant whitespace.\"\"\"\n",
        "num_characters = len(paragraph)\n",
        "print(f\"The paragraph contains {num_characters} characters.\")\n",
        "sentences = re.split(r'[.!?]+', paragraph)\n",
        "num_sentences = len([s for s in sentences if s.strip()])\n",
        "print(f\"The paragraph contains {num_sentences} sentences.\")\n",
        "words = paragraph.split()\n",
        "num_words = len(words)\n",
        "print(f\"The paragraph contains {num_words} words.\")\n",
        "unique_words = set(words)\n",
        "num_unique_words = len(unique_words)\n",
        "print(f\"The paragraph contains {num_unique_words} unique words.\")\n",
        "non_whitespace_chars = len(paragraph.replace(\" \", \"\").replace(\"\\n\", \"\"))\n",
        "print(f\"The paragraph contains {non_whitespace_chars} non-whitespace characters.\")\n",
        "avg_words_per_sentence = num_words / num_sentences\n",
        "print(f\"The average number of words per sentence is {avg_words_per_sentence:.2f}.\")\n",
        "non_unique_words = num_words - num_unique_words\n",
        "print(f\"The paragraph contains {non_unique_words} non-unique words.\")\n"
      ],
      "metadata": {
        "colab": {
          "base_uri": "https://localhost:8080/"
        },
        "id": "q5TNADjmxV6r",
        "outputId": "dd4f88b9-53c9-4d50-dd6e-7492bf8b06bc"
      },
      "execution_count": 4,
      "outputs": [
        {
          "output_type": "stream",
          "name": "stdout",
          "text": [
            "The paragraph contains 234 characters.\n",
            "The paragraph contains 2 sentences.\n",
            "The paragraph contains 31 words.\n",
            "The paragraph contains 31 unique words.\n",
            "The paragraph contains 204 non-whitespace characters.\n",
            "The average number of words per sentence is 15.50.\n",
            "The paragraph contains 0 non-unique words.\n"
          ]
        }
      ]
    },
    {
      "cell_type": "code",
      "source": [
        "input_string = \"New to Python or choosing between Python 2 and Python 3? Read Python 2 or Python 3.\"\n",
        "words = input_string.split()\n",
        "word_frequency = {}\n",
        "for word in words:\n",
        "    if word in word_frequency:\n",
        "        word_frequency[word] += 1\n",
        "    else:\n",
        "        word_frequency[word] = 1\n",
        "for word, frequency in word_frequency.items():\n",
        "    print(f\"{word}:{frequency}\")\n"
      ],
      "metadata": {
        "colab": {
          "base_uri": "https://localhost:8080/"
        },
        "id": "akff9Tbpxf5n",
        "outputId": "3683e13e-d145-4db5-919e-37a265b73273"
      },
      "execution_count": 5,
      "outputs": [
        {
          "output_type": "stream",
          "name": "stdout",
          "text": [
            "New:1\n",
            "to:1\n",
            "Python:5\n",
            "or:2\n",
            "choosing:1\n",
            "between:1\n",
            "2:2\n",
            "and:1\n",
            "3?:1\n",
            "Read:1\n",
            "3.:1\n"
          ]
        }
      ]
    },
    {
      "cell_type": "code",
      "source": [],
      "metadata": {
        "id": "4fRuvyXtxoG7"
      },
      "execution_count": null,
      "outputs": []
    }
  ]
}