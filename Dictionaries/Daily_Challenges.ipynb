{
  "nbformat": 4,
  "nbformat_minor": 0,
  "metadata": {
    "colab": {
      "provenance": [],
      "authorship_tag": "ABX9TyPa9CZZmKY7NoL9/cxOR1KR",
      "include_colab_link": true
    },
    "kernelspec": {
      "name": "python3",
      "display_name": "Python 3"
    },
    "language_info": {
      "name": "python"
    }
  },
  "cells": [
    {
      "cell_type": "markdown",
      "metadata": {
        "id": "view-in-github",
        "colab_type": "text"
      },
      "source": [
        "<a href=\"https://colab.research.google.com/github/IngerMasha/week1/blob/main/Dictionaries/Daily_Challenges.ipynb\" target=\"_parent\"><img src=\"https://colab.research.google.com/assets/colab-badge.svg\" alt=\"Open In Colab\"/></a>"
      ]
    },
    {
      "cell_type": "code",
      "execution_count": 1,
      "metadata": {
        "colab": {
          "base_uri": "https://localhost:8080/"
        },
        "id": "umg7oOUQ-L5g",
        "outputId": "f001030f-c2ca-4744-ca02-c66d4a80df14"
      },
      "outputs": [
        {
          "output_type": "stream",
          "name": "stdout",
          "text": [
            "Enter a word: hellow\n",
            "{'h': [0], 'e': [1], 'l': [2, 3], 'o': [4], 'w': [5]}\n"
          ]
        }
      ],
      "source": [
        "word = input(\"Enter a word: \")\n",
        "index_dict = {}\n",
        "\n",
        "for index, letter in enumerate(word):\n",
        "    if letter in index_dict:\n",
        "        index_dict[letter].append(index)\n",
        "    else:\n",
        "        index_dict[letter] = [index]\n",
        "print(index_dict)\n"
      ]
    },
    {
      "cell_type": "code",
      "source": [
        "items_purchase = {\n",
        "  \"Apple\": \"$4\",\n",
        "  \"Honey\": \"$3\",\n",
        "  \"Fan\": \"$14\",\n",
        "  \"Bananas\": \"$4\",\n",
        "  \"Pan\": \"$100\",\n",
        "  \"Spoon\": \"$2\"\n",
        "}\n",
        "wallet = \"$100\"\n",
        "\n",
        "def price_to_number(price_str):\n",
        "    return int(price_str.replace(\"$\", \"\").replace(\",\", \"\"))\n",
        "wallet_amount = price_to_number(wallet)\n",
        "affordable_items = [item for item, price in items_purchase.items() if price_to_number(price) <= wallet_amount]\n",
        "affordable_items.sort()\n",
        "if affordable_items:\n",
        "    print(affordable_items)\n",
        "else:\n",
        "    print(\"Nothing\")\n"
      ],
      "metadata": {
        "colab": {
          "base_uri": "https://localhost:8080/"
        },
        "id": "sik_jyha-ttI",
        "outputId": "4ea051a4-a025-4450-94c8-6a8e9e175126"
      },
      "execution_count": 2,
      "outputs": [
        {
          "output_type": "stream",
          "name": "stdout",
          "text": [
            "['Apple', 'Bananas', 'Fan', 'Honey', 'Pan', 'Spoon']\n"
          ]
        }
      ]
    },
    {
      "cell_type": "code",
      "source": [
        "def caesar_cipher(text, shift, direction):\n",
        "    result = \"\"\n",
        "\n",
        "    if direction == \"decrypt\":\n",
        "        shift = -shift\n",
        "    for char in text:\n",
        "        if char.isalpha():\n",
        "            start = ord('A') if char.isupper() else ord('a')\n",
        "            shifted_char = chr((ord(char) - start + shift) % 26 + start)\n",
        "            result += shifted_char\n",
        "        else:\n",
        "            result += char\n",
        "\n",
        "    return result\n",
        "\n",
        "print(\"Welcome to the Caesar Cipher program!\")\n",
        "action = input(\"Do you want to encrypt or decrypt a message? \").lower()\n",
        "if action not in [\"encrypt\", \"decrypt\"]:\n",
        "    print(\"Invalid option, please choose 'encrypt' or 'decrypt'.\")\n",
        "else:\n",
        "    message = input(\"Enter your message: \")\n",
        "    shift = int(input(\"Enter the shift value: \"))\n",
        "    transformed_message = caesar_cipher(message, shift, action)\n",
        "    print(f\"The {action}ed message is: {transformed_message}\")\n"
      ],
      "metadata": {
        "colab": {
          "base_uri": "https://localhost:8080/"
        },
        "id": "h_IhmvnG_Cv5",
        "outputId": "9e22ab2b-e1da-4099-9f94-689e39080f92"
      },
      "execution_count": 3,
      "outputs": [
        {
          "output_type": "stream",
          "name": "stdout",
          "text": [
            "Welcome to the Caesar Cipher program!\n",
            "Do you want to encrypt or decrypt a message? encrypt\n",
            "Enter your message: hi there\n",
            "Enter the shift value: 3\n",
            "The encrypted message is: kl wkhuh\n"
          ]
        }
      ]
    }
  ]
}