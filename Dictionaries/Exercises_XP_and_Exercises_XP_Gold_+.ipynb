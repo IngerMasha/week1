{
  "nbformat": 4,
  "nbformat_minor": 0,
  "metadata": {
    "colab": {
      "provenance": [],
      "authorship_tag": "ABX9TyM4YnXUCNT5n2ZjpmsmcAAu",
      "include_colab_link": true
    },
    "kernelspec": {
      "name": "python3",
      "display_name": "Python 3"
    },
    "language_info": {
      "name": "python"
    }
  },
  "cells": [
    {
      "cell_type": "markdown",
      "metadata": {
        "id": "view-in-github",
        "colab_type": "text"
      },
      "source": [
        "<a href=\"https://colab.research.google.com/github/IngerMasha/week1/blob/main/Dictionaries/Exercises_XP_and_Exercises_XP_Gold_%2B.ipynb\" target=\"_parent\"><img src=\"https://colab.research.google.com/assets/colab-badge.svg\" alt=\"Open In Colab\"/></a>"
      ]
    },
    {
      "cell_type": "code",
      "execution_count": 1,
      "metadata": {
        "colab": {
          "base_uri": "https://localhost:8080/"
        },
        "id": "jK_EsCmf6X_P",
        "outputId": "de5246d2-3cff-40dc-c19d-0f534312b508"
      },
      "outputs": [
        {
          "output_type": "stream",
          "name": "stdout",
          "text": [
            "Class Average: 84.87\n",
            "Alice: Average Grade = 93.33, Letter Grade = A\n",
            "Bob: Average Grade = 77.67, Letter Grade = C\n",
            "Charlie: Average Grade = 89.00, Letter Grade = B\n",
            "Dana: Average Grade = 87.67, Letter Grade = B\n",
            "Eli: Average Grade = 76.67, Letter Grade = C\n"
          ]
        }
      ],
      "source": [
        "student_grades = {\n",
        "    \"Alice\": [88, 92, 100],\n",
        "    \"Bob\": [75, 78, 80],\n",
        "    \"Charlie\": [92, 90, 85],\n",
        "    \"Dana\": [83, 88, 92],\n",
        "    \"Eli\": [78, 80, 72]\n",
        "}\n",
        "student_averages = {}\n",
        "student_letter_grades = {}\n",
        "for student, grades in student_grades.items():\n",
        "    avg_grade = sum(grades) / len(grades)\n",
        "    student_averages[student] = avg_grade\n",
        "    if avg_grade >= 90:\n",
        "        letter_grade = 'A'\n",
        "    elif avg_grade >= 80:\n",
        "        letter_grade = 'B'\n",
        "    elif avg_grade >= 70:\n",
        "        letter_grade = 'C'\n",
        "    elif avg_grade >= 60:\n",
        "        letter_grade = 'D'\n",
        "    else:\n",
        "        letter_grade = 'F'\n",
        "    student_letter_grades[student] = letter_grade\n",
        "class_average = sum(student_averages.values()) / len(student_averages)\n",
        "print(f\"Class Average: {class_average:.2f}\")\n",
        "for student in student_averages:\n",
        "    print(f\"{student}: Average Grade = {student_averages[student]:.2f}, Letter Grade = {student_letter_grades[student]}\")\n"
      ]
    },
    {
      "cell_type": "code",
      "source": [
        "sales_data = [\n",
        "    {\"customer_id\": 1, \"product\": \"Smartphone\", \"price\": 600, \"quantity\": 1, \"date\": \"2023-04-03\"},\n",
        "    {\"customer_id\": 2, \"product\": \"Laptop\", \"price\": 1200, \"quantity\": 1, \"date\": \"2023-04-04\"},\n",
        "    {\"customer_id\": 1, \"product\": \"Laptop\", \"price\": 1000, \"quantity\": 1, \"date\": \"2023-04-05\"},\n",
        "    {\"customer_id\": 2, \"product\": \"Smartphone\", \"price\": 500, \"quantity\": 2, \"date\": \"2023-04-06\"},\n",
        "    {\"customer_id\": 3, \"product\": \"Headphones\", \"price\": 150, \"quantity\": 4, \"date\": \"2023-04-07\"},\n",
        "    {\"customer_id\": 3, \"product\": \"Smartphone\", \"price\": 550, \"quantity\": 1, \"date\": \"2023-04-08\"},\n",
        "    {\"customer_id\": 1, \"product\": \"Headphones\", \"price\": 100, \"quantity\": 2, \"date\": \"2023-04-09\"},\n",
        "]\n",
        "total_sales = {}\n",
        "for sale in sales_data:\n",
        "    product = sale[\"product\"]\n",
        "    total_sales[product] = total_sales.get(product, 0) + (sale[\"price\"] * sale[\"quantity\"])\n",
        "print(\"Total Sales per Product:\", total_sales)\n",
        "customer_spending = {}\n",
        "for sale in sales_data:\n",
        "    customer_id = sale[\"customer_id\"]\n",
        "    total_price = sale[\"price\"] * sale[\"quantity\"]\n",
        "    customer_spending[customer_id] = customer_spending.get(customer_id, 0) + total_price\n",
        "print(\"Total Spending per Customer:\", customer_spending)\n",
        "for sale in sales_data:\n",
        "    sale[\"total_price\"] = sale[\"price\"] * sale[\"quantity\"]\n",
        "high_value_transactions = sorted(\n",
        "    [sale for sale in sales_data if sale[\"total_price\"] > 500],\n",
        "    key=lambda x: x[\"total_price\"],\n",
        "    reverse=True\n",
        ")\n",
        "print(\"High-Value Transactions:\", high_value_transactions)\n",
        "purchase_counts = {}\n",
        "for sale in sales_data:\n",
        "    customer_id = sale[\"customer_id\"]\n",
        "    purchase_counts[customer_id] = purchase_counts.get(customer_id, 0) + 1\n",
        "loyal_customers = [customer_id for customer_id, count in purchase_counts.items() if count > 1]\n",
        "print(\"Loyal Customers:\", loyal_customers)\n"
      ],
      "metadata": {
        "colab": {
          "base_uri": "https://localhost:8080/"
        },
        "id": "TSS_5G2l6jmK",
        "outputId": "e45a5fb0-fa38-48bd-9de6-3945125eb635"
      },
      "execution_count": 2,
      "outputs": [
        {
          "output_type": "stream",
          "name": "stdout",
          "text": [
            "Total Sales per Product: {'Smartphone': 2150, 'Laptop': 2200, 'Headphones': 800}\n",
            "Total Spending per Customer: {1: 1800, 2: 2200, 3: 1150}\n",
            "High-Value Transactions: [{'customer_id': 2, 'product': 'Laptop', 'price': 1200, 'quantity': 1, 'date': '2023-04-04', 'total_price': 1200}, {'customer_id': 1, 'product': 'Laptop', 'price': 1000, 'quantity': 1, 'date': '2023-04-05', 'total_price': 1000}, {'customer_id': 2, 'product': 'Smartphone', 'price': 500, 'quantity': 2, 'date': '2023-04-06', 'total_price': 1000}, {'customer_id': 1, 'product': 'Smartphone', 'price': 600, 'quantity': 1, 'date': '2023-04-03', 'total_price': 600}, {'customer_id': 3, 'product': 'Headphones', 'price': 150, 'quantity': 4, 'date': '2023-04-07', 'total_price': 600}, {'customer_id': 3, 'product': 'Smartphone', 'price': 550, 'quantity': 1, 'date': '2023-04-08', 'total_price': 550}]\n",
            "Loyal Customers: [1, 2, 3]\n"
          ]
        }
      ]
    },
    {
      "cell_type": "code",
      "source": [
        "birthdays = {\n",
        "    \"Alice\": \"1995/06/15\",\n",
        "    \"Bob\": \"1987/08/22\",\n",
        "    \"Charlie\": \"2000/01/10\",\n",
        "    \"Dana\": \"1992/03/27\",\n",
        "    \"Eli\": \"1985/11/05\"\n",
        "}\n",
        "\n",
        "print(\"Welcome! You can look up the birthdays of the people in the list!\")\n",
        "name = input(\"Whose birthday would you like to look up? \")\n",
        "name_capitalize = name.capitalize()\n",
        "\n",
        "if name_capitalize in birthdays:\n",
        "    print(f\"{name_capitalize}'s birthday is on {birthdays[name_capitalize]}.\")\n",
        "else:\n",
        "    print(f\"Sorry, we don't have the birthday information for {name_capitalize}.\")\n"
      ],
      "metadata": {
        "colab": {
          "base_uri": "https://localhost:8080/"
        },
        "id": "PvTCcoSI69Of",
        "outputId": "e2460819-0afd-41e7-9a6c-729bcc7659a0"
      },
      "execution_count": 8,
      "outputs": [
        {
          "output_type": "stream",
          "name": "stdout",
          "text": [
            "Welcome! You can look up the birthdays of the people in the list!\n",
            "Whose birthday would you like to look up? Bob\n",
            "Bob's birthday is on 1987/08/22.\n"
          ]
        }
      ]
    },
    {
      "cell_type": "code",
      "source": [
        "print(\"Here are the names of people whose birthdays we know:\")\n",
        "for name in birthdays.keys():\n",
        "    print(name)\n",
        "name = input(\"Whose birthday would you like to look up? \")\n",
        "name_capitalize = name.capitalize()\n",
        "\n",
        "if name_capitalize in birthdays:\n",
        "    print(f\"{name_capitalize}'s birthday is on {birthdays[name_capitalize]}.\")\n",
        "else:\n",
        "    print(f\"Sorry, we don't have the birthday information for {name_capitalize}.\")\n"
      ],
      "metadata": {
        "colab": {
          "base_uri": "https://localhost:8080/"
        },
        "id": "ChETG4vy8FXK",
        "outputId": "ea9e489a-326a-4c99-9731-896df92b2d51"
      },
      "execution_count": 10,
      "outputs": [
        {
          "output_type": "stream",
          "name": "stdout",
          "text": [
            "Here are the names of people whose birthdays we know:\n",
            "Alice\n",
            "Bob\n",
            "Charlie\n",
            "Dana\n",
            "Eli\n",
            "Whose birthday would you like to look up? bob\n",
            "Bob's birthday is on 1987/08/22.\n"
          ]
        }
      ]
    },
    {
      "cell_type": "code",
      "source": [
        "new_name = input(\"Enter a new person's name: \")\n",
        "new_birthday = input(f\"Enter {new_name}'s birthday (in YYYY/MM/DD format): \")\n",
        "birthdays[new_name] = new_birthday\n",
        "print(\"Here are the names of people whose birthdays we know:\")\n",
        "for name in birthdays.keys():\n",
        "    print(name)\n",
        "name = input(\"Whose birthday would you like to look up? \")\n",
        "if name in birthdays:\n",
        "    print(f\"{name}'s birthday is on {birthdays[name]}.\")\n",
        "else:\n",
        "    print(f\"Sorry, we don't have the birthday information for {name}.\")\n"
      ],
      "metadata": {
        "colab": {
          "base_uri": "https://localhost:8080/"
        },
        "id": "sVbOCai78W6M",
        "outputId": "1fe47040-48a1-4d40-8cc9-19ca1fc87fa7"
      },
      "execution_count": 11,
      "outputs": [
        {
          "output_type": "stream",
          "name": "stdout",
          "text": [
            "Enter a new person's name: Bob\n",
            "Enter Bob's birthday (in YYYY/MM/DD format): 23/08/2000\n",
            "Here are the names of people whose birthdays we know:\n",
            "Alice\n",
            "Bob\n",
            "Charlie\n",
            "Dana\n",
            "Eli\n",
            "Whose birthday would you like to look up? Bob\n",
            "Bob's birthday is on 23/08/2000.\n"
          ]
        }
      ]
    },
    {
      "cell_type": "code",
      "source": [
        "items = {\n",
        "    \"banana\": 4,\n",
        "    \"apple\": 2,\n",
        "    \"orange\": 1.5,\n",
        "    \"pear\": 3\n",
        "}\n",
        "\n",
        "for item, price in items.items():\n",
        "    print(f\"The price of a {item} is {price} dollars.\")\n",
        "items_with_stock = {\n",
        "    \"banana\": {\"price\": 4, \"stock\": 10},\n",
        "    \"apple\": {\"price\": 2, \"stock\": 5},\n",
        "    \"orange\": {\"price\": 1.5, \"stock\": 24},\n",
        "    \"pear\": {\"price\": 3, \"stock\": 1}\n",
        "}\n",
        "total_cost = 0\n",
        "for item, details in items_with_stock.items():\n",
        "    item_total = details[\"price\"] * details[\"stock\"]\n",
        "    total_cost += item_total\n",
        "print(f\"The total cost to buy everything in stock is {total_cost} dollars.\")"
      ],
      "metadata": {
        "colab": {
          "base_uri": "https://localhost:8080/"
        },
        "id": "9RHL2yO18qrV",
        "outputId": "077d772f-a418-4fa2-dfea-cbba5d0def6e"
      },
      "execution_count": 12,
      "outputs": [
        {
          "output_type": "stream",
          "name": "stdout",
          "text": [
            "The price of a banana is 4 dollars.\n",
            "The price of a apple is 2 dollars.\n",
            "The price of a orange is 1.5 dollars.\n",
            "The price of a pear is 3 dollars.\n",
            "The total cost to buy everything in stock is 89.0 dollars.\n"
          ]
        }
      ]
    }
  ]
}