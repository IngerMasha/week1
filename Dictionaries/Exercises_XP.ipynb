{
  "nbformat": 4,
  "nbformat_minor": 0,
  "metadata": {
    "colab": {
      "provenance": [],
      "authorship_tag": "ABX9TyNItbVSLOSi1xsRX7kooGZ4",
      "include_colab_link": true
    },
    "kernelspec": {
      "name": "python3",
      "display_name": "Python 3"
    },
    "language_info": {
      "name": "python"
    }
  },
  "cells": [
    {
      "cell_type": "markdown",
      "metadata": {
        "id": "view-in-github",
        "colab_type": "text"
      },
      "source": [
        "<a href=\"https://colab.research.google.com/github/IngerMasha/week1/blob/main/Dictionaries/Exercises_XP.ipynb\" target=\"_parent\"><img src=\"https://colab.research.google.com/assets/colab-badge.svg\" alt=\"Open In Colab\"/></a>"
      ]
    },
    {
      "cell_type": "code",
      "execution_count": 1,
      "metadata": {
        "colab": {
          "base_uri": "https://localhost:8080/"
        },
        "id": "3G2Zruh506Xg",
        "outputId": "4066ea13-579c-4688-db63-6db376322365"
      },
      "outputs": [
        {
          "output_type": "stream",
          "name": "stdout",
          "text": [
            "{'Ten': 10, 'Twenty': 20, 'Thirty': 30}\n"
          ]
        }
      ],
      "source": [
        "keys = ['Ten', 'Twenty', 'Thirty']\n",
        "values = [10, 20, 30]\n",
        "result = dict(zip(keys, values))\n",
        "print(result)\n"
      ]
    },
    {
      "cell_type": "code",
      "source": [
        "family = {}\n",
        "while True:\n",
        "    name = input(\"Enter family member's name (or type 'stop' to finish): \")\n",
        "    if name.lower() == 'stop':\n",
        "        break\n",
        "    age = int(input(f\"Enter {name}'s age: \"))\n",
        "    family[name] = age\n",
        "total_cost = 0\n",
        "for person, age in family.items():\n",
        "    if age < 3:\n",
        "        ticket_price = 0\n",
        "    elif 3 <= age <= 12:\n",
        "        ticket_price = 10\n",
        "    else:\n",
        "        ticket_price = 15\n",
        "    print(f\"{person} has to pay ${ticket_price}.\")\n",
        "    total_cost += ticket_price\n",
        "print(f\"Total cost for the family: ${total_cost}\")"
      ],
      "metadata": {
        "colab": {
          "base_uri": "https://localhost:8080/"
        },
        "id": "PeQVOl6W4DCH",
        "outputId": "751b27cc-d28e-4c83-dd19-f8c0f0edaadd"
      },
      "execution_count": 2,
      "outputs": [
        {
          "output_type": "stream",
          "name": "stdout",
          "text": [
            "Enter family member's name (or type 'stop' to finish): мама\n",
            "Enter мама's age: 45\n",
            "Enter family member's name (or type 'stop' to finish): папа\n",
            "Enter папа's age: 47\n",
            "Enter family member's name (or type 'stop' to finish): марина\n",
            "Enter марина's age: 34\n",
            "Enter family member's name (or type 'stop' to finish): stop\n",
            "мама has to pay $15.\n",
            "папа has to pay $15.\n",
            "марина has to pay $15.\n",
            "Total cost for the family: $45\n"
          ]
        }
      ]
    },
    {
      "cell_type": "code",
      "source": [
        "brand = {\n",
        "    \"name\": \"Zara\",\n",
        "    \"creation_date\": 1975,\n",
        "    \"creator_name\": \"Amancio Ortega Gaona\",\n",
        "    \"type_of_clothes\": [\"men\", \"women\", \"children\", \"home\"],\n",
        "    \"international_competitors\": [\"Gap\", \"H&M\", \"Benetton\"],\n",
        "    \"number_stores\": 7000,\n",
        "    \"major_color\": {\n",
        "        \"France\": \"blue\",\n",
        "        \"Spain\": \"red\",\n",
        "        \"US\": [\"pink\", \"green\"]\n",
        "    }\n",
        "}\n",
        "brand[\"number_stores\"] = 2\n",
        "print(f\"Zara's clients are people interested in {', '.join(brand['type_of_clothes'])} fashion.\")\n",
        "brand[\"country_creation\"] = \"Spain\"\n",
        "if \"international_competitors\" in brand:\n",
        "    brand[\"international_competitors\"].append(\"Desigual\")\n",
        "del brand[\"creation_date\"]\n",
        "print(brand[\"international_competitors\"][-1])\n",
        "print(brand[\"major_color\"][\"US\"])\n",
        "print(len(brand))\n",
        "print(brand.keys())\n",
        "more_on_zara = {\n",
        "    \"creation_date\": 1975,\n",
        "    \"number_stores\": 10000\n",
        "}\n",
        "brand.update(more_on_zara)\n",
        "print(brand[\"number_stores\"])  # This will print 10000 as it overwrites the previous value\n"
      ],
      "metadata": {
        "colab": {
          "base_uri": "https://localhost:8080/"
        },
        "id": "H5VrIxJ74QDL",
        "outputId": "3f556a77-4bdc-4798-c380-8dc1588dc005"
      },
      "execution_count": 3,
      "outputs": [
        {
          "output_type": "stream",
          "name": "stdout",
          "text": [
            "Zara's clients are people interested in men, women, children, home fashion.\n",
            "Desigual\n",
            "['pink', 'green']\n",
            "7\n",
            "dict_keys(['name', 'creator_name', 'type_of_clothes', 'international_competitors', 'number_stores', 'major_color', 'country_creation'])\n",
            "10000\n"
          ]
        }
      ]
    },
    {
      "cell_type": "code",
      "source": [
        "users = [\"Mickey\", \"Minnie\", \"Donald\", \"Ariel\", \"Pluto\"]\n",
        "disney_users_A = {user: i for i, user in enumerate(users)}\n",
        "print(disney_users_A)\n",
        "disney_users_B = {i: user for i, user in enumerate(users)}\n",
        "print(disney_users_B)\n",
        "disney_users_C = {user: i for i, user in enumerate(sorted(users))}\n",
        "print(disney_users_C)\n",
        "disney_users_A_i = {user: i for i, user in enumerate(users) if \"i\" in user}\n",
        "print(disney_users_A_i)\n",
        "disney_users_A_mp = {user: i for i, user in enumerate(users) if user[0].lower() in ['m', 'p']}\n",
        "print(disney_users_A_mp)"
      ],
      "metadata": {
        "colab": {
          "base_uri": "https://localhost:8080/"
        },
        "id": "J0-GvF9u47o0",
        "outputId": "06ce6869-ad58-462c-f710-b1a8f8bfda2f"
      },
      "execution_count": 4,
      "outputs": [
        {
          "output_type": "stream",
          "name": "stdout",
          "text": [
            "{'Mickey': 0, 'Minnie': 1, 'Donald': 2, 'Ariel': 3, 'Pluto': 4}\n",
            "{0: 'Mickey', 1: 'Minnie', 2: 'Donald', 3: 'Ariel', 4: 'Pluto'}\n",
            "{'Ariel': 0, 'Donald': 1, 'Mickey': 2, 'Minnie': 3, 'Pluto': 4}\n",
            "{'Mickey': 0, 'Minnie': 1, 'Ariel': 3}\n",
            "{'Mickey': 0, 'Minnie': 1, 'Pluto': 4}\n"
          ]
        }
      ]
    }
  ]
}