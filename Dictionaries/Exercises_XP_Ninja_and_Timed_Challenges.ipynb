{
  "nbformat": 4,
  "nbformat_minor": 0,
  "metadata": {
    "colab": {
      "provenance": [],
      "authorship_tag": "ABX9TyMXl/iUEEHijLEz7QDC+ihH",
      "include_colab_link": true
    },
    "kernelspec": {
      "name": "python3",
      "display_name": "Python 3"
    },
    "language_info": {
      "name": "python"
    }
  },
  "cells": [
    {
      "cell_type": "markdown",
      "metadata": {
        "id": "view-in-github",
        "colab_type": "text"
      },
      "source": [
        "<a href=\"https://colab.research.google.com/github/IngerMasha/week1/blob/main/Dictionaries/Exercises_XP_Ninja_and_Timed_Challenges.ipynb\" target=\"_parent\"><img src=\"https://colab.research.google.com/assets/colab-badge.svg\" alt=\"Open In Colab\"/></a>"
      ]
    },
    {
      "cell_type": "code",
      "execution_count": 1,
      "metadata": {
        "colab": {
          "base_uri": "https://localhost:8080/"
        },
        "id": "5USZC8rD9DVz",
        "outputId": "9984fa4c-620e-4147-ef34-a22bb66f9f9f"
      },
      "outputs": [
        {
          "output_type": "stream",
          "name": "stdout",
          "text": [
            "There are 5 manufacturers/companies in the list.\n",
            "Manufacturers in reverse order (Z-A): ['Volkswagen', 'Toyota', 'Honda', 'Ford Motor', 'Chevrolet']\n",
            "Number of manufacturers with 'o' in their name: 5\n",
            "Number of manufacturers without 'i' in their name: 5\n",
            "Companies without duplicates: Ford Motor, Volkswagen, Toyota, Honda, Chevrolet\n",
            "There are 5 companies now in the list.\n",
            "Manufacturers in ascending order (A-Z) with reversed letters: ['telorvehC', 'rotoM droF', 'adnoH', 'atoyoT', 'negawskloV']\n"
          ]
        }
      ],
      "source": [
        "cars_string = \"Volkswagen, Toyota, Ford Motor, Honda, Chevrolet\"\n",
        "cars_list = cars_string.split(\", \")\n",
        "print(f\"There are {len(cars_list)} manufacturers/companies in the list.\")\n",
        "cars_list_reverse = sorted(cars_list, reverse=True)\n",
        "print(\"Manufacturers in reverse order (Z-A):\", cars_list_reverse)\n",
        "manufacturers_with_o = [manufacturer for manufacturer in cars_list if 'o' in manufacturer.lower()]\n",
        "print(f\"Number of manufacturers with 'o' in their name: {len(manufacturers_with_o)}\")\n",
        "manufacturers_without_i = [manufacturer for manufacturer in cars_list if 'i' not in manufacturer.lower()]\n",
        "print(f\"Number of manufacturers without 'i' in their name: {len(manufacturers_without_i)}\")\n",
        "cars_list_with_duplicates = [\"Honda\", \"Volkswagen\", \"Toyota\", \"Ford Motor\", \"Honda\", \"Chevrolet\", \"Toyota\"]\n",
        "cars_set = set(cars_list_with_duplicates)\n",
        "cars_list_unique = list(cars_set)\n",
        "print(f\"Companies without duplicates: {', '.join(cars_list_unique)}\")\n",
        "print(f\"There are {len(cars_list_unique)} companies now in the list.\")\n",
        "cars_list_reversed_letters = [manufacturer[::-1] for manufacturer in sorted(cars_list)]\n",
        "print(\"Manufacturers in ascending order (A-Z) with reversed letters:\", cars_list_reversed_letters)\n"
      ]
    },
    {
      "cell_type": "code",
      "source": [
        "REverseinp = input(\"Enter a sentence: \")\n",
        "words_list = REverseinp.split()\n",
        "reversed_list = words_list[::-1]\n",
        "reversed_sentence = \" \".join(reversed_list)\n",
        "print(reversed_sentence)\n"
      ],
      "metadata": {
        "colab": {
          "base_uri": "https://localhost:8080/"
        },
        "id": "BqIBoeaq9gDs",
        "outputId": "3b0d22fe-68ae-41b7-b337-35df7a316e38"
      },
      "execution_count": 3,
      "outputs": [
        {
          "output_type": "stream",
          "name": "stdout",
          "text": [
            "Enter a sentence: hi there\n",
            "there hi\n"
          ]
        }
      ]
    },
    {
      "cell_type": "code",
      "source": [],
      "metadata": {
        "id": "-XovOpR3-EeE"
      },
      "execution_count": null,
      "outputs": []
    },
    {
      "cell_type": "code",
      "source": [
        "x = int(input('Enter the Number: '))\n",
        "sum_of_divisors = 0\n",
        "for i in range(1, x):\n",
        "    if x % i == 0:\n",
        "        sum_of_divisors += i\n",
        "if sum_of_divisors == x:\n",
        "    print(True)\n",
        "else:\n",
        "    print(False)\n"
      ],
      "metadata": {
        "colab": {
          "base_uri": "https://localhost:8080/"
        },
        "id": "kldTt6Ve9wim",
        "outputId": "376e4f32-d5cd-4ff2-ab7b-cfaefa5860d1"
      },
      "execution_count": 2,
      "outputs": [
        {
          "output_type": "stream",
          "name": "stdout",
          "text": [
            "Enter the Number: 7\n",
            "False\n"
          ]
        }
      ]
    }
  ]
}