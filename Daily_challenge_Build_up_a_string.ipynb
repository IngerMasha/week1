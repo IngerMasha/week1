{
  "nbformat": 4,
  "nbformat_minor": 0,
  "metadata": {
    "colab": {
      "provenance": [],
      "authorship_tag": "ABX9TyNZXvZXmm67XQdwFJLNDoV3",
      "include_colab_link": true
    },
    "kernelspec": {
      "name": "python3",
      "display_name": "Python 3"
    },
    "language_info": {
      "name": "python"
    }
  },
  "cells": [
    {
      "cell_type": "markdown",
      "metadata": {
        "id": "view-in-github",
        "colab_type": "text"
      },
      "source": [
        "<a href=\"https://colab.research.google.com/github/IngerMasha/week1/blob/main/Daily_challenge_Build_up_a_string.ipynb\" target=\"_parent\"><img src=\"https://colab.research.google.com/assets/colab-badge.svg\" alt=\"Open In Colab\"/></a>"
      ]
    },
    {
      "cell_type": "code",
      "execution_count": 1,
      "metadata": {
        "colab": {
          "base_uri": "https://localhost:8080/"
        },
        "id": "RhBPE523tB7N",
        "outputId": "35412c6a-13e5-49e3-b41b-729550a4b9b9"
      },
      "outputs": [
        {
          "output_type": "stream",
          "name": "stdout",
          "text": [
            "Enter a string of exactly 10 characters: 1234567890\n",
            "Perfect string\n",
            "First character: 1\n",
            "Last character: 0\n",
            "1\n",
            "12\n",
            "123\n",
            "1234\n",
            "12345\n",
            "123456\n",
            "1234567\n",
            "12345678\n",
            "123456789\n",
            "1234567890\n",
            "Shuffled string: 8967034215\n"
          ]
        }
      ],
      "source": [
        "user_input = input(\"Enter a string of exactly 10 characters: \")\n",
        "\n",
        "if len(user_input) < 10:\n",
        "    print(\"String not long enough\")\n",
        "elif len(user_input) > 10:\n",
        "    print(\"String too long\")\n",
        "else:\n",
        "    print(\"Perfect string\")\n",
        "    print(\"First character:\", user_input[0])\n",
        "    print(\"Last character:\", user_input[-1])\n",
        "    for i in range(1, len(user_input) + 1):\n",
        "        print(user_input[:i])\n",
        "    import random\n",
        "    shuffled_list = list(user_input)\n",
        "    random.shuffle(shuffled_list)\n",
        "    shuffled_string = ''.join(shuffled_list)\n",
        "    print(\"Shuffled string:\", shuffled_string)\n"
      ]
    }
  ]
}