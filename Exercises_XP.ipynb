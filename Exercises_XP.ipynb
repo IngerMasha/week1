{
  "nbformat": 4,
  "nbformat_minor": 0,
  "metadata": {
    "colab": {
      "provenance": [],
      "authorship_tag": "ABX9TyMeX2zSxIGSDDsHxdxuO1Vx",
      "include_colab_link": true
    },
    "kernelspec": {
      "name": "python3",
      "display_name": "Python 3"
    },
    "language_info": {
      "name": "python"
    }
  },
  "cells": [
    {
      "cell_type": "markdown",
      "metadata": {
        "id": "view-in-github",
        "colab_type": "text"
      },
      "source": [
        "<a href=\"https://colab.research.google.com/github/IngerMasha/week1/blob/main/Exercises_XP.ipynb\" target=\"_parent\"><img src=\"https://colab.research.google.com/assets/colab-badge.svg\" alt=\"Open In Colab\"/></a>"
      ]
    },
    {
      "cell_type": "code",
      "execution_count": 1,
      "metadata": {
        "colab": {
          "base_uri": "https://localhost:8080/"
        },
        "id": "e5hmvn-UpuWB",
        "outputId": "b892ecd6-9503-4937-fd0d-0dbd20f43aaf"
      },
      "outputs": [
        {
          "output_type": "stream",
          "name": "stdout",
          "text": [
            "Hello world\n",
            "Hello world\n",
            "Hello world\n",
            "Hello world\n"
          ]
        }
      ],
      "source": [
        "print(\"Hello world\\nHello world\\nHello world\\nHello world\")\n"
      ]
    },
    {
      "cell_type": "code",
      "source": [
        "result = (99**3) * 8\n",
        "print(result)"
      ],
      "metadata": {
        "colab": {
          "base_uri": "https://localhost:8080/"
        },
        "id": "lmYaTB2-p0hz",
        "outputId": "1fd096c3-87eb-44e8-ce8b-73b1855c61ba"
      },
      "execution_count": 2,
      "outputs": [
        {
          "output_type": "stream",
          "name": "stdout",
          "text": [
            "7762392\n"
          ]
        }
      ]
    },
    {
      "cell_type": "markdown",
      "source": [
        "5 < 3  False\n",
        "3 == 3 True\n",
        "3 == \"3\" False\n",
        "\"3\" > 3 error comparing a string and an integer wronge\n",
        "\"Hello\" == \"hello\" False"
      ],
      "metadata": {
        "id": "zVwVQDT6p32S"
      }
    },
    {
      "cell_type": "code",
      "source": [
        "computer_brand = \"Brand\"\n",
        "print(f\"I have a {computer_brand} computer\")\n"
      ],
      "metadata": {
        "colab": {
          "base_uri": "https://localhost:8080/"
        },
        "id": "Pamve29_qF8Q",
        "outputId": "87561841-0c83-4d09-d65e-cf63cabdcc27"
      },
      "execution_count": 4,
      "outputs": [
        {
          "output_type": "stream",
          "name": "stdout",
          "text": [
            "I have a Brand computer\n"
          ]
        }
      ]
    },
    {
      "cell_type": "code",
      "source": [
        "name = \"MAria\"\n",
        "age = 24\n",
        "shoe_size = 39\n",
        "info = f\"My name is {name}, I am {age} years old, and my shoe size is {shoe_size}.\"\n",
        "print(info)"
      ],
      "metadata": {
        "colab": {
          "base_uri": "https://localhost:8080/"
        },
        "id": "iGoBJmDVqGII",
        "outputId": "4d16d7ca-0666-4d43-ad2b-3d458084855a"
      },
      "execution_count": 5,
      "outputs": [
        {
          "output_type": "stream",
          "name": "stdout",
          "text": [
            "My name is MAria, I am 24 years old, and my shoe size is 39.\n"
          ]
        }
      ]
    },
    {
      "cell_type": "code",
      "source": [
        "a = 5\n",
        "b = 3\n",
        "if a > b:\n",
        "    print(\"Hello World\")"
      ],
      "metadata": {
        "colab": {
          "base_uri": "https://localhost:8080/"
        },
        "id": "tR-SADHbqUbC",
        "outputId": "61dcff84-038b-449c-cf6d-64767ca90655"
      },
      "execution_count": 10,
      "outputs": [
        {
          "output_type": "stream",
          "name": "stdout",
          "text": [
            "Hello World\n"
          ]
        }
      ]
    },
    {
      "cell_type": "code",
      "source": [
        "number = int(input(\"Enter a number: \"))\n",
        "if number % 2 == 0:\n",
        "    print(\"Even\")\n",
        "else:\n",
        "    print(\"Odd\")"
      ],
      "metadata": {
        "colab": {
          "base_uri": "https://localhost:8080/"
        },
        "id": "_vMLuik1rFoh",
        "outputId": "70a4b0c2-6aea-4e5f-81c6-174673d39fcc"
      },
      "execution_count": 9,
      "outputs": [
        {
          "output_type": "stream",
          "name": "stdout",
          "text": [
            "Enter a number: 7\n",
            "Odd\n"
          ]
        }
      ]
    },
    {
      "cell_type": "code",
      "source": [
        "your_name = \"Maria\"\n",
        "user_name = input(\"What is your name? \")\n",
        "if user_name == your_name:\n",
        "    print(\"Hey, we have the same name!\")\n",
        "else:\n",
        "    print(\"Nice to meet you!\")\n"
      ],
      "metadata": {
        "colab": {
          "base_uri": "https://localhost:8080/"
        },
        "id": "A7RCgCN3q2Fc",
        "outputId": "c78f1c5e-4294-48d1-933d-bbaa790e30f2"
      },
      "execution_count": 7,
      "outputs": [
        {
          "output_type": "stream",
          "name": "stdout",
          "text": [
            "What is your name? masha\n",
            "Nice to meet you!\n"
          ]
        }
      ]
    },
    {
      "cell_type": "code",
      "source": [
        "height = int(input(\"Enter your height in cm: \"))\n",
        "if height > 145:\n",
        "    print(\"You're tall enough to ride!\")\n",
        "else:\n",
        "    print(\"You need to grow some more to ride.\")"
      ],
      "metadata": {
        "colab": {
          "base_uri": "https://localhost:8080/"
        },
        "id": "vWhHSp0nqtli",
        "outputId": "938b4663-c533-4866-8982-494177ac2a8b"
      },
      "execution_count": 8,
      "outputs": [
        {
          "output_type": "stream",
          "name": "stdout",
          "text": [
            "Enter your height in cm: 162\n",
            "You're tall enough to ride!\n"
          ]
        }
      ]
    }
  ]
}